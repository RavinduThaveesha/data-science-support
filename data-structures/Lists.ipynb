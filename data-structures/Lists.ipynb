{
 "cells": [
  {
   "cell_type": "markdown",
   "id": "28e28cbc",
   "metadata": {},
   "source": [
    "- An ordered collection of items.\n",
    "- Can specify items by its index.\n",
    "- List-based data structures:\n",
    " - Arrays\n",
    " - Linked lists\n",
    " - Stacks\n",
    " - Queues\n",
    " - Deques"
   ]
  },
  {
   "cell_type": "code",
   "execution_count": 1,
   "id": "81f560c4",
   "metadata": {},
   "outputs": [],
   "source": [
    "lst = [1,2,3]"
   ]
  },
  {
   "cell_type": "markdown",
   "id": "0f52665a",
   "metadata": {},
   "source": [
    "Lists in python are extensible by default."
   ]
  },
  {
   "cell_type": "code",
   "execution_count": 2,
   "id": "43b7f89f",
   "metadata": {},
   "outputs": [],
   "source": [
    "lst.append(4)"
   ]
  },
  {
   "cell_type": "markdown",
   "id": "c825f9b1",
   "metadata": {},
   "source": [
    "List item by its index"
   ]
  },
  {
   "cell_type": "code",
   "execution_count": 3,
   "id": "c0474d62",
   "metadata": {},
   "outputs": [
    {
     "data": {
      "text/plain": [
       "3"
      ]
     },
     "execution_count": 3,
     "metadata": {},
     "output_type": "execute_result"
    }
   ],
   "source": [
    "lst[2]"
   ]
  },
  {
   "cell_type": "code",
   "execution_count": null,
   "id": "5271938f",
   "metadata": {},
   "outputs": [],
   "source": [
    "In pythonnCannot apply mathamatical operations "
   ]
  }
 ],
 "metadata": {
  "kernelspec": {
   "display_name": "Python 3 (ipykernel)",
   "language": "python",
   "name": "python3"
  },
  "language_info": {
   "codemirror_mode": {
    "name": "ipython",
    "version": 3
   },
   "file_extension": ".py",
   "mimetype": "text/x-python",
   "name": "python",
   "nbconvert_exporter": "python",
   "pygments_lexer": "ipython3",
   "version": "3.10.5"
  }
 },
 "nbformat": 4,
 "nbformat_minor": 5
}
