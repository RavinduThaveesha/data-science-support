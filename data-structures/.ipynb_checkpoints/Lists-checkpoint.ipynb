{
 "cells": [
  {
   "cell_type": "markdown",
   "id": "32484547",
   "metadata": {},
   "source": [
    "- An ordered collection of items.\n",
    "- Can specify items by its index.\n",
    "- List-based data structures:\n",
    " - Arrays\n",
    " - Linked lists\n",
    " - Stacks\n",
    " - Queues\n",
    " - Deques"
   ]
  },
  {
   "cell_type": "code",
   "execution_count": 1,
   "id": "2b082caa",
   "metadata": {},
   "outputs": [],
   "source": [
    "lst = [1,2,3]"
   ]
  },
  {
   "cell_type": "markdown",
   "id": "9c26a567",
   "metadata": {},
   "source": [
    "Lists in python are extensible by default."
   ]
  },
  {
   "cell_type": "code",
   "execution_count": 2,
   "id": "1ecff727",
   "metadata": {},
   "outputs": [],
   "source": [
    "lst.append(4)"
   ]
  },
  {
   "cell_type": "markdown",
   "id": "886e04a3",
   "metadata": {},
   "source": [
    "List item by its index"
   ]
  },
  {
   "cell_type": "code",
   "execution_count": 3,
   "id": "7e0702f5",
   "metadata": {},
   "outputs": [
    {
     "data": {
      "text/plain": [
       "3"
      ]
     },
     "execution_count": 3,
     "metadata": {},
     "output_type": "execute_result"
    }
   ],
   "source": [
    "lst[2]"
   ]
  },
  {
   "cell_type": "markdown",
   "id": "6b02375e",
   "metadata": {},
   "source": [
    "In python, cannot apply mathamatical operations."
   ]
  },
  {
   "cell_type": "code",
   "execution_count": 5,
   "id": "bff6f601",
   "metadata": {},
   "outputs": [
    {
     "ename": "TypeError",
     "evalue": "unsupported operand type(s) for /: 'list' and 'int'",
     "output_type": "error",
     "traceback": [
      "\u001b[1;31m---------------------------------------------------------------------------\u001b[0m",
      "\u001b[1;31mTypeError\u001b[0m                                 Traceback (most recent call last)",
      "Input \u001b[1;32mIn [5]\u001b[0m, in \u001b[0;36m<cell line: 1>\u001b[1;34m()\u001b[0m\n\u001b[1;32m----> 1\u001b[0m \u001b[43mlst\u001b[49m\u001b[38;5;241;43m/\u001b[39;49m\u001b[38;5;241;43m2\u001b[39;49m\n",
      "\u001b[1;31mTypeError\u001b[0m: unsupported operand type(s) for /: 'list' and 'int'"
     ]
    }
   ],
   "source": [
    "lst/2"
   ]
  },
  {
   "cell_type": "code",
   "execution_count": null,
   "id": "e4238429",
   "metadata": {},
   "outputs": [],
   "source": []
  }
 ],
 "metadata": {
  "kernelspec": {
   "display_name": "Python 3 (ipykernel)",
   "language": "python",
   "name": "python3"
  },
  "language_info": {
   "codemirror_mode": {
    "name": "ipython",
    "version": 3
   },
   "file_extension": ".py",
   "mimetype": "text/x-python",
   "name": "python",
   "nbconvert_exporter": "python",
   "pygments_lexer": "ipython3",
   "version": "3.10.5"
  }
 },
 "nbformat": 4,
 "nbformat_minor": 5
}
