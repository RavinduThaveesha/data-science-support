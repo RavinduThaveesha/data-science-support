{
 "cells": [
  {
   "cell_type": "markdown",
   "id": "067fbee0",
   "metadata": {},
   "source": [
    "- Similar to Array(vector) but, elements are indexed.\n",
    " - Instead, elements in the linked list (called nodes or units) store which element in the list is next(nodes are linked).\n",
    "- Makes adding or removing elements in anywhere in the list computationaly efficient (O(1)).\n",
    "- However, accessing the element is worst case (O(N))."
   ]
  },
  {
   "cell_type": "code",
   "execution_count": 61,
   "id": "3c4d239d",
   "metadata": {},
   "outputs": [],
   "source": [
    "class Node:\n",
    "    def __init__(self, d, n=None):\n",
    "        self.data = d\n",
    "        self.next = n\n",
    "    def get_next(self):\n",
    "        return self.next\n",
    "    def set_next(self, n):\n",
    "        self.next = n\n",
    "    def get_data(self):\n",
    "        return self.data\n",
    "    def set_data(selef, d):\n",
    "        self.data = d\n",
    "\n",
    "class LinkedList:\n",
    "    def __init__(self, r=None):\n",
    "        self.root = r\n",
    "        self.size = 0\n",
    "    def get_size(self):\n",
    "        return self.size\n",
    "    def add(self, d):\n",
    "        new_node = Node(d, self.root)\n",
    "        self.root = new_node\n",
    "        self.size += 1\n",
    "    def remove(self, d):\n",
    "        this_node = self.root\n",
    "        prev_node = None\n",
    "        while this_node: \n",
    "            if this_node.get_data() == d:\n",
    "                if prev_node:\n",
    "                    prev_node.set_next(this_node.get_next())\n",
    "                else:\n",
    "                    self.root = this_node.get_next()\n",
    "                self.size -= 1\n",
    "                return True\n",
    "            else:\n",
    "                prev_node = this_node\n",
    "                this_node = this_node.get_next()\n",
    "        return False\n",
    "    def find(self, d):\n",
    "        this_node = self.root\n",
    "        while this_node:\n",
    "            if this_node.get_data() == d:\n",
    "                return d\n",
    "            else:\n",
    "                this_node = this_node.get_next()\n",
    "        return None"
   ]
  },
  {
   "cell_type": "code",
   "execution_count": 62,
   "id": "b1bd1b9e",
   "metadata": {},
   "outputs": [
    {
     "name": "stdout",
     "output_type": "stream",
     "text": [
      "3\n"
     ]
    }
   ],
   "source": [
    "li = LinkedList()\n",
    "li.add('A')\n",
    "li.add('B')\n",
    "li.add('C')\n",
    "print(li.get_size())"
   ]
  },
  {
   "cell_type": "code",
   "execution_count": 63,
   "id": "6946bf51",
   "metadata": {},
   "outputs": [
    {
     "name": "stdout",
     "output_type": "stream",
     "text": [
      "2\n"
     ]
    }
   ],
   "source": [
    "li.remove('B')\n",
    "print(li.get_size())"
   ]
  },
  {
   "cell_type": "code",
   "execution_count": null,
   "id": "b0bb29b6",
   "metadata": {},
   "outputs": [],
   "source": []
  }
 ],
 "metadata": {
  "kernelspec": {
   "display_name": "Python 3 (ipykernel)",
   "language": "python",
   "name": "python3"
  },
  "language_info": {
   "codemirror_mode": {
    "name": "ipython",
    "version": 3
   },
   "file_extension": ".py",
   "mimetype": "text/x-python",
   "name": "python",
   "nbconvert_exporter": "python",
   "pygments_lexer": "ipython3",
   "version": "3.10.5"
  }
 },
 "nbformat": 4,
 "nbformat_minor": 5
}
