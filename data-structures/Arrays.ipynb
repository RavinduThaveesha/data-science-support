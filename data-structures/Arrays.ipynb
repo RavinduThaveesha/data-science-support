{
 "cells": [
  {
   "cell_type": "markdown",
   "id": "94493b62",
   "metadata": {},
   "source": [
    "- List we can apply math operations\n",
    "- Typically all elements are in same type"
   ]
  },
  {
   "cell_type": "code",
   "execution_count": 1,
   "id": "fc43bb53",
   "metadata": {},
   "outputs": [],
   "source": [
    "import numpy as np\n",
    "\n",
    "x = np.array([1,2,3])"
   ]
  },
  {
   "cell_type": "code",
   "execution_count": 2,
   "id": "12801c39",
   "metadata": {},
   "outputs": [
    {
     "data": {
      "text/plain": [
       "3"
      ]
     },
     "execution_count": 2,
     "metadata": {},
     "output_type": "execute_result"
    }
   ],
   "source": [
    "x[2]"
   ]
  },
  {
   "cell_type": "code",
   "execution_count": 5,
   "id": "0172ac7e",
   "metadata": {},
   "outputs": [
    {
     "data": {
      "text/plain": [
       "array([0.5, 1. , 1.5])"
      ]
     },
     "execution_count": 5,
     "metadata": {},
     "output_type": "execute_result"
    }
   ],
   "source": [
    "x/2"
   ]
  },
  {
   "cell_type": "markdown",
   "id": "01fc1ccf",
   "metadata": {},
   "source": [
    "Arrays in Python are also typlically extensible by default."
   ]
  },
  {
   "cell_type": "code",
   "execution_count": 8,
   "id": "93dd9c2d",
   "metadata": {},
   "outputs": [
    {
     "data": {
      "text/plain": [
       "array([1, 2, 3, 4])"
      ]
     },
     "execution_count": 8,
     "metadata": {},
     "output_type": "execute_result"
    }
   ],
   "source": [
    "np.append(x, 4)"
   ]
  },
  {
   "cell_type": "markdown",
   "id": "cfbf2220",
   "metadata": {},
   "source": [
    "- Appending item in the end is extreamly efficient O(1). Appending item in the beginning of the array is the worst O(N).\n",
    "- Accessing an array element by index and finding length of the array is O(1)"
   ]
  }
 ],
 "metadata": {
  "kernelspec": {
   "display_name": "Python 3 (ipykernel)",
   "language": "python",
   "name": "python3"
  },
  "language_info": {
   "codemirror_mode": {
    "name": "ipython",
    "version": 3
   },
   "file_extension": ".py",
   "mimetype": "text/x-python",
   "name": "python",
   "nbconvert_exporter": "python",
   "pygments_lexer": "ipython3",
   "version": "3.10.5"
  }
 },
 "nbformat": 4,
 "nbformat_minor": 5
}
