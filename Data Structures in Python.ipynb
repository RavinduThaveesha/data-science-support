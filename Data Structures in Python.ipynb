{
 "cells": [
  {
   "cell_type": "markdown",
   "id": "b4bce222",
   "metadata": {},
   "source": [
    "### Sequences: String, List, Tupples\n",
    "\n",
    "Sequence Data Types are used to store data in containers in the Python computer language. The different types of containers used to store the data are List, Tuple, and String. Lists are mutable and can hold data of any type, whereas Strings are immutable and can only store data of the str type. Tuples are immutable data types that can store any sort of value.\n",
    "\n",
    "\n",
    "#### Indexing: Access any element in squence using its index(starts with 0)."
   ]
  },
  {
   "cell_type": "code",
   "execution_count": 5,
   "id": "9eeb6da6",
   "metadata": {},
   "outputs": [
    {
     "name": "stdout",
     "output_type": "stream",
     "text": [
      "o\n",
      "Honda\n",
      "mango\n"
     ]
    }
   ],
   "source": [
    "# string\n",
    "x = 'dog'\n",
    "print(x[1])\n",
    "\n",
    "# list\n",
    "x = ['BMW', 'Volvo', 'Honda']\n",
    "print(x[2])\n",
    "\n",
    "# tuple\n",
    "x = ('mango', 'banana', 'orange')\n",
    "print(x[0])"
   ]
  },
  {
   "cell_type": "markdown",
   "id": "a28bc42f",
   "metadata": {},
   "source": [
    "```The key difference between tuples and lists is that while the tuples are immutable objects, lists are mutable. This means that tuples cannot be changed while lists can be modified.```\n",
    "\n",
    "```As lists are mutable, Python needs to allocate an extra memory block in case there is a need to extend the size of the list object after create it. In contrast, as tuples are immutable and of a fixed size, Python allocates only the minimum memory block required for the data.```\n",
    "\n",
    "```As a result, tuples are more memory efficient than lists.```\n",
    "\n",
    "#### Slicing: Slice out substrings, sublist, subtuple using indexes.\n",
    "[start: end+1: step]"
   ]
  },
  {
   "cell_type": "code",
   "execution_count": 4,
   "id": "b1a7c2fb",
   "metadata": {},
   "outputs": [
    {
     "name": "stdout",
     "output_type": "stream",
     "text": [
      "rogr\n",
      "['Volvo', 'Honda']\n",
      "('mango', 'orange')\n"
     ]
    }
   ],
   "source": [
    "# string\n",
    "x = 'programming'\n",
    "print(x[1:5])\n",
    "\n",
    "# list\n",
    "x = ['BMW', 'Volvo', 'Honda', 'Toyota']\n",
    "print(x[1:3])\n",
    "\n",
    "# tuple\n",
    "x = ('mango', 'banana', 'orange', 'apple')\n",
    "print(x[0:3:2])"
   ]
  },
  {
   "cell_type": "markdown",
   "id": "0ff0377d",
   "metadata": {},
   "source": [
    "#### Concatenating: Combine two sequences of same type using +"
   ]
  },
  {
   "cell_type": "code",
   "execution_count": 8,
   "id": "7bdeb61e",
   "metadata": {},
   "outputs": [
    {
     "name": "stdout",
     "output_type": "stream",
     "text": [
      "programmingpython\n",
      "['BMW', 'Volvo', 'Honda', 'Toyota', 'Ferrari']\n",
      "('mango', 'banana', 'orange', 'apple', 'grapes')\n"
     ]
    }
   ],
   "source": [
    "# string\n",
    "x = 'programming'\n",
    "y = 'python'\n",
    "print(x + y)\n",
    "\n",
    "# list\n",
    "x = ['BMW', 'Volvo', 'Honda', 'Toyota']\n",
    "y = ['Ferrari']\n",
    "print(x + y)\n",
    "\n",
    "# tuple\n",
    "x = ('mango', 'banana', 'orange', 'apple')\n",
    "y = ('grapes', )\n",
    "print(x + y)"
   ]
  },
  {
   "cell_type": "markdown",
   "id": "d2ed1118",
   "metadata": {},
   "source": [
    "#### Multiplying: Multiply sequence using *"
   ]
  },
  {
   "cell_type": "code",
   "execution_count": 1,
   "id": "efc50896",
   "metadata": {},
   "outputs": [
    {
     "name": "stdout",
     "output_type": "stream",
     "text": [
      "ho ho ho \n",
      "[2, 3, 2, 3, 2, 3]\n",
      "(4, 5, 4, 5)\n"
     ]
    }
   ],
   "source": [
    "# string\n",
    "x = 'ho '\n",
    "print(x * 3)\n",
    "\n",
    "# list\n",
    "x = [2, 3]\n",
    "print(x * 3)\n",
    "\n",
    "# tuple\n",
    "x = (4, 5)\n",
    "print(x * 2)"
   ]
  },
  {
   "cell_type": "markdown",
   "id": "e380a2ff",
   "metadata": {},
   "source": [
    "#### Checking membership: Check wether an element is in or not in a squence."
   ]
  },
  {
   "cell_type": "code",
   "execution_count": 2,
   "id": "ee14e4cb",
   "metadata": {},
   "outputs": [
    {
     "name": "stdout",
     "output_type": "stream",
     "text": [
      "True\n",
      "False\n",
      "True\n"
     ]
    }
   ],
   "source": [
    "# string\n",
    "x = 'hello'\n",
    "print('e' in x)\n",
    "\n",
    "# list\n",
    "x = [2, 3, 6]\n",
    "print(6 not in x)\n",
    "\n",
    "# tuple\n",
    "x = (4, 5, 9, 'test')\n",
    "print('test' in x)"
   ]
  },
  {
   "cell_type": "markdown",
   "id": "186dd8f0",
   "metadata": {},
   "source": [
    "#### Iterating: Iterating through the items in a squence."
   ]
  },
  {
   "cell_type": "code",
   "execution_count": 3,
   "id": "bf186b4f",
   "metadata": {},
   "outputs": [
    {
     "name": "stdout",
     "output_type": "stream",
     "text": [
      "2\n",
      "3\n",
      "6\n",
      "0 2\n",
      "1 3\n",
      "2 6\n"
     ]
    }
   ],
   "source": [
    "# item\n",
    "x = [2, 3, 6]\n",
    "for i in x:\n",
    "    print(i)\n",
    "    \n",
    "# index & items\n",
    "x = [2, 3, 6]\n",
    "for i, e in enumerate(x):\n",
    "    print(i, e)"
   ]
  },
  {
   "cell_type": "markdown",
   "id": "42e844c3",
   "metadata": {},
   "source": [
    "#### Number of items: Count number of items in sequences."
   ]
  },
  {
   "cell_type": "code",
   "execution_count": 4,
   "id": "37ceba7c",
   "metadata": {},
   "outputs": [
    {
     "name": "stdout",
     "output_type": "stream",
     "text": [
      "5\n",
      "3\n",
      "4\n"
     ]
    }
   ],
   "source": [
    "# string\n",
    "x = 'hello'\n",
    "print(len(x))\n",
    "\n",
    "# list\n",
    "x = [2, 3, 6]\n",
    "print(len(x))\n",
    "\n",
    "# tuple\n",
    "x = (4, 5, 9, 'test')\n",
    "print(len(x))"
   ]
  },
  {
   "cell_type": "markdown",
   "id": "cc081ef4",
   "metadata": {},
   "source": [
    "#### Minimum: Find the minimum in squence lexicographically.\n",
    "Alpha or numeric types cannot mix types."
   ]
  },
  {
   "cell_type": "code",
   "execution_count": 5,
   "id": "556c84f6",
   "metadata": {},
   "outputs": [
    {
     "name": "stdout",
     "output_type": "stream",
     "text": [
      "e\n",
      "2\n",
      "one\n"
     ]
    }
   ],
   "source": [
    "# string\n",
    "x = 'hello'\n",
    "print(min(x))\n",
    "\n",
    "# list\n",
    "x = [2, 3, 6]\n",
    "print(min(x))\n",
    "\n",
    "# tuple\n",
    "x = ('one', 'two', 'three')\n",
    "print(min(x))"
   ]
  },
  {
   "cell_type": "markdown",
   "id": "54211d23",
   "metadata": {},
   "source": [
    "#### Maximum: Find the maximum in squence lexicographically.\n",
    "Alpha or numeric types cannot mix types."
   ]
  },
  {
   "cell_type": "code",
   "execution_count": 6,
   "id": "bc70a6d4",
   "metadata": {},
   "outputs": [
    {
     "name": "stdout",
     "output_type": "stream",
     "text": [
      "o\n",
      "6\n",
      "two\n"
     ]
    }
   ],
   "source": [
    "# string\n",
    "x = 'hello'\n",
    "print(max(x))\n",
    "\n",
    "# list\n",
    "x = [2, 3, 6]\n",
    "print(max(x))\n",
    "\n",
    "# tuple\n",
    "x = ('one', 'two', 'three')\n",
    "print(max(x))"
   ]
  },
  {
   "cell_type": "markdown",
   "id": "1e6536c3",
   "metadata": {},
   "source": [
    "#### Sum: Find the sum of items in squence.\n",
    "Entire squnce must be numeric."
   ]
  },
  {
   "cell_type": "code",
   "execution_count": 9,
   "id": "27cf9370",
   "metadata": {},
   "outputs": [
    {
     "name": "stdout",
     "output_type": "stream",
     "text": [
      "11\n",
      "9\n",
      "18\n"
     ]
    }
   ],
   "source": [
    "# list\n",
    "x = [2, 3, 6]\n",
    "print(sum(x))\n",
    "print(sum(x[-2:]))\n",
    "\n",
    "# tuple\n",
    "x = (5, 6, 7)\n",
    "print(sum(x))"
   ]
  },
  {
   "cell_type": "markdown",
   "id": "fe1e4d3d",
   "metadata": {},
   "source": [
    "#### Sort: Retruns new list of items in sorted order.\n",
    "Does not change the original list."
   ]
  },
  {
   "cell_type": "code",
   "execution_count": 10,
   "id": "0109758c",
   "metadata": {},
   "outputs": [
    {
     "name": "stdout",
     "output_type": "stream",
     "text": [
      "['e', 'h', 'l', 'l', 'o']\n",
      "[2, 3, 6]\n",
      "['one', 'three', 'two']\n"
     ]
    }
   ],
   "source": [
    "# string\n",
    "x = 'hello'\n",
    "print(sorted(x))\n",
    "\n",
    "# list\n",
    "x = [2, 3, 6]\n",
    "print(sorted(x))\n",
    "\n",
    "# tuple\n",
    "x = ('one', 'two', 'three')\n",
    "print(sorted(x))"
   ]
  },
  {
   "cell_type": "markdown",
   "id": "f2ab1c4d",
   "metadata": {},
   "source": [
    "#### Sort: Sort by second letter.\n",
    "Add key parameter and lambda function to return the second character. <br/>\n",
    "(The word key here is a defined parameter name, k is an arbitary variable name.)"
   ]
  },
  {
   "cell_type": "code",
   "execution_count": 12,
   "id": "465bda84",
   "metadata": {},
   "outputs": [
    {
     "name": "stdout",
     "output_type": "stream",
     "text": [
      "['three', 'one', 'two']\n"
     ]
    }
   ],
   "source": [
    "# tuple\n",
    "x = ('one', 'two', 'three')\n",
    "print(sorted(x, key=lambda k: k[1]))"
   ]
  },
  {
   "cell_type": "code",
   "execution_count": null,
   "id": "3d3da2c0",
   "metadata": {},
   "outputs": [],
   "source": []
  }
 ],
 "metadata": {
  "kernelspec": {
   "display_name": "Python 3 (ipykernel)",
   "language": "python",
   "name": "python3"
  },
  "language_info": {
   "codemirror_mode": {
    "name": "ipython",
    "version": 3
   },
   "file_extension": ".py",
   "mimetype": "text/x-python",
   "name": "python",
   "nbconvert_exporter": "python",
   "pygments_lexer": "ipython3",
   "version": "3.10.5"
  }
 },
 "nbformat": 4,
 "nbformat_minor": 5
}
